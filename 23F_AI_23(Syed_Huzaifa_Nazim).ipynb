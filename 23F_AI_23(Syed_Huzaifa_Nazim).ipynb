{
  "nbformat": 4,
  "nbformat_minor": 0,
  "metadata": {
    "colab": {
      "provenance": []
    },
    "kernelspec": {
      "name": "python3",
      "display_name": "Python 3"
    },
    "language_info": {
      "name": "python"
    }
  },
  "cells": [
    {
      "cell_type": "code",
      "execution_count": 2,
      "metadata": {
        "colab": {
          "base_uri": "https://localhost:8080/"
        },
        "id": "7iG2ngjfaHU_",
        "outputId": "31ab4a2a-4fba-4dbb-b91b-6267715f97e0"
      },
      "outputs": [
        {
          "output_type": "stream",
          "name": "stdout",
          "text": [
            "Input: abccccdd\n",
            "Output: 7\n",
            "Input: a\n",
            "Output: 1\n",
            "Enter a string to find the longest palindrome length: gtg\n",
            "You entered the string:  gtg\n",
            "The length of the longest palindrome that can be built is: 3\n"
          ]
        }
      ],
      "source": [
        "\"\"\"\"\"\n",
        "Open-Ended Lab Task 2:\n",
        "Objective:\n",
        "Given a string s which consists of lowercase or uppercase letters,\n",
        "return the length of the longest Palindrome that can be built with those letters.\n",
        "Letters are case sensitive, for example, \"Aa\" is not considered a palindrome.\n",
        "\n",
        "Submission Requirements:\n",
        "Submit the program code along with comments explaining key sections of your implementation.\n",
        "Optional: Submit screenshots of sample outputs or visualizations if implemented.\n",
        "\n",
        "Examples:\n",
        "Example 1:\n",
        "Input: s = \"abccccdd\"\n",
        "Output: 7\n",
        "Explanation: One longest palindrome that can be built is \"dccaccd\", whose length is 7.\n",
        "Example 2:\n",
        "Input: s = \"a\"\n",
        "Output: 1\n",
        "Explanation: The longest palindrome that can be built is \"a\", whose length is 1.\n",
        "\"\"\"\"\"\n",
        "\n",
        "def long_paldme(a:str) -> int:\n",
        "    num = {}\n",
        "    #It will count each character in the string\n",
        "    for char in a:\n",
        "        if char in num:\n",
        "            num[char] +=1\n",
        "        else:\n",
        "            num[char] = 1\n",
        "    #The length of the longest palindrome is stored in the variable of len\n",
        "    len=0\n",
        "    odd_fnd = False\n",
        "    #Iterating through the character counts\n",
        "    for count in num.values():\n",
        "        #If the count is even, it can fully contribute to the palindrome\n",
        "        if count % 2 == 0:\n",
        "            len +=count\n",
        "        #If the count is odd, one less than the count can contribute to the palindrome\n",
        "        else:\n",
        "            len += count - 1\n",
        "            odd_fnd = True\n",
        "    #If any odd count was found, we can add one to the length for the center character\n",
        "    if odd_fnd:\n",
        "        len += 1\n",
        "    return len\n",
        "\n",
        "#Given explaination usage of the given example\n",
        "if __name__ == \"__main__\":\n",
        "    a1 = \"abccccdd\"\n",
        "    print(f\"Input: {a1}\\nOutput: {long_paldme(a1)}\")\n",
        "    a2 = \"a\"\n",
        "    print(f\"Input: {a2}\\nOutput: {long_paldme(a2)}\")\n",
        "    #User input for checking the program dynamically:\n",
        "    a3 = input(\"Enter a string to find the longest palindrome length: \")\n",
        "    print (\"You entered the string: \",a3)\n",
        "    print(\"The length of the longest palindrome that can be built is:\", long_paldme(a3))"
      ]
    }
  ]
}